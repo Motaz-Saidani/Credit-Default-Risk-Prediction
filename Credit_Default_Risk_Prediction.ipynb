{
  "nbformat": 4,
  "nbformat_minor": 0,
  "metadata": {
    "kernelspec": {
      "display_name": "Python 3.8",
      "language": "python",
      "name": "python3"
    },
    "language_info": {
      "codemirror_mode": {
        "name": "ipython",
        "version": 3
      },
      "file_extension": ".py",
      "mimetype": "text/x-python",
      "name": "python",
      "nbconvert_exporter": "python",
      "pygments_lexer": "ipython3",
      "version": "3.8.11"
    },
    "colab": {
      "name": "Credit Default Risk Prediction.ipynb",
      "provenance": [],
      "collapsed_sections": [
        "tE2f3DubekO_"
      ],
      "include_colab_link": true
    }
  },
  "cells": [
    {
      "cell_type": "markdown",
      "metadata": {
        "id": "view-in-github",
        "colab_type": "text"
      },
      "source": [
        "<a href=\"https://colab.research.google.com/github/Motaz-Saidani/Credit-Default-Risk-Prediction/blob/main/Credit_Default_Risk_Prediction.ipynb\" target=\"_parent\"><img src=\"https://colab.research.google.com/assets/colab-badge.svg\" alt=\"Open In Colab\"/></a>"
      ]
    },
    {
      "cell_type": "markdown",
      "metadata": {
        "button": false,
        "new_sheet": false,
        "run_control": {
          "read_only": false
        },
        "id": "Tgk0p98uekOM"
      },
      "source": [
        "\n",
        "\n",
        "# <center> Credit Default Risk Prediction\n"
      ]
    },
    {
      "cell_type": "markdown",
      "metadata": {
        "button": false,
        "new_sheet": false,
        "run_control": {
          "read_only": false
        },
        "id": "_x1mg0_WekOV"
      },
      "source": [
        "Using a small unbalanced dataset, I will try to make the most of it by preprocessing, cleaning, extracting features, & applying advanced statistical techniques to yield robust results & maximize the performance of classification models in predicting credit default. The models will be compared by different accuracy evaluation methods to see which one fits the best this specific dataset. Algorithms will be used are:\n",
        "\n",
        "*   KNN,\n",
        "*   Decision Tree,\n",
        "*   Support Vector Machine, and \n",
        "*   Logistic Regression.\n",
        "\n"
      ]
    },
    {
      "cell_type": "code",
      "metadata": {
        "button": false,
        "new_sheet": false,
        "run_control": {
          "read_only": false
        },
        "id": "WvWQMuciekOW"
      },
      "source": [
        "import itertools\n",
        "import numpy as np\n",
        "import pandas as pd\n",
        "from datetime import date\n",
        "\n",
        "import seaborn as sns\n",
        "import matplotlib.pyplot as plt\n",
        "\n",
        "from sklearn.model_selection import train_test_split\n",
        "from sklearn import preprocessing\n",
        "%matplotlib inline"
      ],
      "execution_count": 1,
      "outputs": []
    },
    {
      "cell_type": "markdown",
      "metadata": {
        "button": false,
        "new_sheet": false,
        "run_control": {
          "read_only": false
        },
        "id": "1Qgz16u6ekOY"
      },
      "source": [
        "### About dataset\n"
      ]
    },
    {
      "cell_type": "markdown",
      "metadata": {
        "button": false,
        "new_sheet": false,
        "run_control": {
          "read_only": false
        },
        "id": "1EErBqk1ekOZ"
      },
      "source": [
        "This dataset is about past loans. It includes details of 346 customers whose loans are already paid off or defaulted. It includes following fields:\n",
        "\n",
        "| Field          | Description                                                                           |\n",
        "| -------------- | ------------------------------------------------------------------------------------- |\n",
        "| Loan_status    | Whether a loan is paid off on in collection                                           |\n",
        "| Principal      | Basic principal loan amount at the                                                    |\n",
        "| Terms          | Origination terms which can be weekly (7 days), biweekly, and monthly payoff schedule |\n",
        "| Effective_date | When the loan got originated and took effects                                         |\n",
        "| Due_date       | Since it’s one-time payoff schedule, each loan has one single due date                |\n",
        "| Age            | Age of applicant                                                                      |\n",
        "| Education      | Education of applicant                                                                |\n",
        "| Gender         | The gender of applicant                                                               |\n"
      ]
    },
    {
      "cell_type": "markdown",
      "metadata": {
        "button": false,
        "new_sheet": false,
        "run_control": {
          "read_only": false
        },
        "id": "iXfvHRXrekOf"
      },
      "source": [
        "### Importing Data\n"
      ]
    },
    {
      "cell_type": "code",
      "metadata": {
        "button": false,
        "new_sheet": false,
        "run_control": {
          "read_only": false
        },
        "colab": {
          "base_uri": "https://localhost:8080/"
        },
        "id": "_r8vQ_e6ekOc",
        "outputId": "07c97d5f-5239-4e87-e3df-ac31cd505830"
      },
      "source": [
        "!gdown --id 11cYuOVK6vTsoql2yqtZAsNY62sDbeUvT"
      ],
      "execution_count": 2,
      "outputs": [
        {
          "output_type": "stream",
          "name": "stdout",
          "text": [
            "Downloading...\n",
            "From: https://drive.google.com/uc?id=11cYuOVK6vTsoql2yqtZAsNY62sDbeUvT\n",
            "To: /content/loan_data.csv\n",
            "\r  0% 0.00/23.7k [00:00<?, ?B/s]\r100% 23.7k/23.7k [00:00<00:00, 45.7MB/s]\n"
          ]
        }
      ]
    },
    {
      "cell_type": "code",
      "metadata": {
        "colab": {
          "base_uri": "https://localhost:8080/",
          "height": 143
        },
        "id": "eiv01IssWBqT",
        "outputId": "977cfecf-7a8a-4afb-be05-a3e74b01b985"
      },
      "source": [
        "df = pd.read_csv('loan_data.csv')\n",
        "df[:3]"
      ],
      "execution_count": 3,
      "outputs": [
        {
          "output_type": "execute_result",
          "data": {
            "text/html": [
              "<div>\n",
              "<style scoped>\n",
              "    .dataframe tbody tr th:only-of-type {\n",
              "        vertical-align: middle;\n",
              "    }\n",
              "\n",
              "    .dataframe tbody tr th {\n",
              "        vertical-align: top;\n",
              "    }\n",
              "\n",
              "    .dataframe thead th {\n",
              "        text-align: right;\n",
              "    }\n",
              "</style>\n",
              "<table border=\"1\" class=\"dataframe\">\n",
              "  <thead>\n",
              "    <tr style=\"text-align: right;\">\n",
              "      <th></th>\n",
              "      <th>loan_status</th>\n",
              "      <th>Principal</th>\n",
              "      <th>terms</th>\n",
              "      <th>effective_date</th>\n",
              "      <th>due_date</th>\n",
              "      <th>age</th>\n",
              "      <th>education</th>\n",
              "      <th>Gender</th>\n",
              "    </tr>\n",
              "  </thead>\n",
              "  <tbody>\n",
              "    <tr>\n",
              "      <th>0</th>\n",
              "      <td>PAIDOFF</td>\n",
              "      <td>1000</td>\n",
              "      <td>30</td>\n",
              "      <td>9/8/2016</td>\n",
              "      <td>10/7/2016</td>\n",
              "      <td>45</td>\n",
              "      <td>High School or Below</td>\n",
              "      <td>male</td>\n",
              "    </tr>\n",
              "    <tr>\n",
              "      <th>1</th>\n",
              "      <td>PAIDOFF</td>\n",
              "      <td>1000</td>\n",
              "      <td>30</td>\n",
              "      <td>9/8/2016</td>\n",
              "      <td>10/7/2016</td>\n",
              "      <td>50</td>\n",
              "      <td>Bechalor</td>\n",
              "      <td>female</td>\n",
              "    </tr>\n",
              "    <tr>\n",
              "      <th>2</th>\n",
              "      <td>PAIDOFF</td>\n",
              "      <td>1000</td>\n",
              "      <td>30</td>\n",
              "      <td>9/8/2016</td>\n",
              "      <td>10/7/2016</td>\n",
              "      <td>33</td>\n",
              "      <td>Bechalor</td>\n",
              "      <td>female</td>\n",
              "    </tr>\n",
              "  </tbody>\n",
              "</table>\n",
              "</div>"
            ],
            "text/plain": [
              "  loan_status  Principal  terms  ... age             education  Gender\n",
              "0     PAIDOFF       1000     30  ...  45  High School or Below    male\n",
              "1     PAIDOFF       1000     30  ...  50              Bechalor  female\n",
              "2     PAIDOFF       1000     30  ...  33              Bechalor  female\n",
              "\n",
              "[3 rows x 8 columns]"
            ]
          },
          "metadata": {},
          "execution_count": 3
        }
      ]
    },
    {
      "cell_type": "markdown",
      "metadata": {
        "button": false,
        "new_sheet": false,
        "run_control": {
          "read_only": false
        },
        "id": "qXrcpfWVekOl"
      },
      "source": [
        "# Data visualization and pre-processing\n"
      ]
    },
    {
      "cell_type": "code",
      "metadata": {
        "colab": {
          "base_uri": "https://localhost:8080/",
          "height": 300
        },
        "id": "WN5gkW9j8HQz",
        "outputId": "4f5cc5c0-59b1-4cd9-fedd-0b659cab0a4a"
      },
      "source": [
        "df.describe()"
      ],
      "execution_count": 4,
      "outputs": [
        {
          "output_type": "execute_result",
          "data": {
            "text/html": [
              "<div>\n",
              "<style scoped>\n",
              "    .dataframe tbody tr th:only-of-type {\n",
              "        vertical-align: middle;\n",
              "    }\n",
              "\n",
              "    .dataframe tbody tr th {\n",
              "        vertical-align: top;\n",
              "    }\n",
              "\n",
              "    .dataframe thead th {\n",
              "        text-align: right;\n",
              "    }\n",
              "</style>\n",
              "<table border=\"1\" class=\"dataframe\">\n",
              "  <thead>\n",
              "    <tr style=\"text-align: right;\">\n",
              "      <th></th>\n",
              "      <th>Principal</th>\n",
              "      <th>terms</th>\n",
              "      <th>age</th>\n",
              "    </tr>\n",
              "  </thead>\n",
              "  <tbody>\n",
              "    <tr>\n",
              "      <th>count</th>\n",
              "      <td>400.00000</td>\n",
              "      <td>400.000000</td>\n",
              "      <td>400.000000</td>\n",
              "    </tr>\n",
              "    <tr>\n",
              "      <th>mean</th>\n",
              "      <td>939.75000</td>\n",
              "      <td>22.550000</td>\n",
              "      <td>31.060000</td>\n",
              "    </tr>\n",
              "    <tr>\n",
              "      <th>std</th>\n",
              "      <td>120.33761</td>\n",
              "      <td>8.100094</td>\n",
              "      <td>6.033441</td>\n",
              "    </tr>\n",
              "    <tr>\n",
              "      <th>min</th>\n",
              "      <td>300.00000</td>\n",
              "      <td>7.000000</td>\n",
              "      <td>18.000000</td>\n",
              "    </tr>\n",
              "    <tr>\n",
              "      <th>25%</th>\n",
              "      <td>800.00000</td>\n",
              "      <td>15.000000</td>\n",
              "      <td>27.000000</td>\n",
              "    </tr>\n",
              "    <tr>\n",
              "      <th>50%</th>\n",
              "      <td>1000.00000</td>\n",
              "      <td>30.000000</td>\n",
              "      <td>30.000000</td>\n",
              "    </tr>\n",
              "    <tr>\n",
              "      <th>75%</th>\n",
              "      <td>1000.00000</td>\n",
              "      <td>30.000000</td>\n",
              "      <td>35.000000</td>\n",
              "    </tr>\n",
              "    <tr>\n",
              "      <th>max</th>\n",
              "      <td>1000.00000</td>\n",
              "      <td>30.000000</td>\n",
              "      <td>51.000000</td>\n",
              "    </tr>\n",
              "  </tbody>\n",
              "</table>\n",
              "</div>"
            ],
            "text/plain": [
              "        Principal       terms         age\n",
              "count   400.00000  400.000000  400.000000\n",
              "mean    939.75000   22.550000   31.060000\n",
              "std     120.33761    8.100094    6.033441\n",
              "min     300.00000    7.000000   18.000000\n",
              "25%     800.00000   15.000000   27.000000\n",
              "50%    1000.00000   30.000000   30.000000\n",
              "75%    1000.00000   30.000000   35.000000\n",
              "max    1000.00000   30.000000   51.000000"
            ]
          },
          "metadata": {},
          "execution_count": 4
        }
      ]
    },
    {
      "cell_type": "markdown",
      "metadata": {
        "id": "e9vYbaoxQlBh"
      },
      "source": [
        "###Checking for missing values"
      ]
    },
    {
      "cell_type": "code",
      "metadata": {
        "colab": {
          "base_uri": "https://localhost:8080/"
        },
        "id": "KjmSFrHUQnbe",
        "outputId": "6e9d5ed4-0fa5-4e91-cceb-2c3888ddc584"
      },
      "source": [
        "df.isna().sum()"
      ],
      "execution_count": 5,
      "outputs": [
        {
          "output_type": "execute_result",
          "data": {
            "text/plain": [
              "loan_status       0\n",
              "Principal         0\n",
              "terms             0\n",
              "effective_date    0\n",
              "due_date          0\n",
              "age               0\n",
              "education         0\n",
              "Gender            0\n",
              "dtype: int64"
            ]
          },
          "metadata": {},
          "execution_count": 5
        }
      ]
    },
    {
      "cell_type": "markdown",
      "metadata": {
        "id": "iKtMvDBaQyw0"
      },
      "source": [
        "###Types of data "
      ]
    },
    {
      "cell_type": "code",
      "metadata": {
        "colab": {
          "base_uri": "https://localhost:8080/"
        },
        "id": "2bbkZIdGQrVY",
        "outputId": "cce3909c-3ac5-41e1-e5cf-6df405b2f4e8"
      },
      "source": [
        "df.dtypes"
      ],
      "execution_count": 6,
      "outputs": [
        {
          "output_type": "execute_result",
          "data": {
            "text/plain": [
              "loan_status       object\n",
              "Principal          int64\n",
              "terms              int64\n",
              "effective_date    object\n",
              "due_date          object\n",
              "age                int64\n",
              "education         object\n",
              "Gender            object\n",
              "dtype: object"
            ]
          },
          "metadata": {},
          "execution_count": 6
        }
      ]
    },
    {
      "cell_type": "markdown",
      "metadata": {
        "button": false,
        "new_sheet": false,
        "run_control": {
          "read_only": false
        },
        "id": "D3IRCWs3ekOk"
      },
      "source": [
        "Converting to date time object\n"
      ]
    },
    {
      "cell_type": "code",
      "metadata": {
        "button": false,
        "new_sheet": false,
        "run_control": {
          "read_only": false
        },
        "colab": {
          "base_uri": "https://localhost:8080/",
          "height": 206
        },
        "id": "_7-uCufCekOl",
        "outputId": "4c6344fa-8f51-4867-da59-ee9a6697cee1"
      },
      "source": [
        "df['due_date'] = pd.to_datetime(df['due_date'])\n",
        "df['effective_date'] = pd.to_datetime(df['effective_date'])\n",
        "df.head()"
      ],
      "execution_count": 7,
      "outputs": [
        {
          "output_type": "execute_result",
          "data": {
            "text/html": [
              "<div>\n",
              "<style scoped>\n",
              "    .dataframe tbody tr th:only-of-type {\n",
              "        vertical-align: middle;\n",
              "    }\n",
              "\n",
              "    .dataframe tbody tr th {\n",
              "        vertical-align: top;\n",
              "    }\n",
              "\n",
              "    .dataframe thead th {\n",
              "        text-align: right;\n",
              "    }\n",
              "</style>\n",
              "<table border=\"1\" class=\"dataframe\">\n",
              "  <thead>\n",
              "    <tr style=\"text-align: right;\">\n",
              "      <th></th>\n",
              "      <th>loan_status</th>\n",
              "      <th>Principal</th>\n",
              "      <th>terms</th>\n",
              "      <th>effective_date</th>\n",
              "      <th>due_date</th>\n",
              "      <th>age</th>\n",
              "      <th>education</th>\n",
              "      <th>Gender</th>\n",
              "    </tr>\n",
              "  </thead>\n",
              "  <tbody>\n",
              "    <tr>\n",
              "      <th>0</th>\n",
              "      <td>PAIDOFF</td>\n",
              "      <td>1000</td>\n",
              "      <td>30</td>\n",
              "      <td>2016-09-08</td>\n",
              "      <td>2016-10-07</td>\n",
              "      <td>45</td>\n",
              "      <td>High School or Below</td>\n",
              "      <td>male</td>\n",
              "    </tr>\n",
              "    <tr>\n",
              "      <th>1</th>\n",
              "      <td>PAIDOFF</td>\n",
              "      <td>1000</td>\n",
              "      <td>30</td>\n",
              "      <td>2016-09-08</td>\n",
              "      <td>2016-10-07</td>\n",
              "      <td>50</td>\n",
              "      <td>Bechalor</td>\n",
              "      <td>female</td>\n",
              "    </tr>\n",
              "    <tr>\n",
              "      <th>2</th>\n",
              "      <td>PAIDOFF</td>\n",
              "      <td>1000</td>\n",
              "      <td>30</td>\n",
              "      <td>2016-09-08</td>\n",
              "      <td>2016-10-07</td>\n",
              "      <td>33</td>\n",
              "      <td>Bechalor</td>\n",
              "      <td>female</td>\n",
              "    </tr>\n",
              "    <tr>\n",
              "      <th>3</th>\n",
              "      <td>PAIDOFF</td>\n",
              "      <td>1000</td>\n",
              "      <td>15</td>\n",
              "      <td>2016-09-08</td>\n",
              "      <td>2016-09-22</td>\n",
              "      <td>27</td>\n",
              "      <td>college</td>\n",
              "      <td>male</td>\n",
              "    </tr>\n",
              "    <tr>\n",
              "      <th>4</th>\n",
              "      <td>PAIDOFF</td>\n",
              "      <td>1000</td>\n",
              "      <td>30</td>\n",
              "      <td>2016-09-09</td>\n",
              "      <td>2016-10-08</td>\n",
              "      <td>28</td>\n",
              "      <td>college</td>\n",
              "      <td>female</td>\n",
              "    </tr>\n",
              "  </tbody>\n",
              "</table>\n",
              "</div>"
            ],
            "text/plain": [
              "  loan_status  Principal  terms  ... age             education  Gender\n",
              "0     PAIDOFF       1000     30  ...  45  High School or Below    male\n",
              "1     PAIDOFF       1000     30  ...  50              Bechalor  female\n",
              "2     PAIDOFF       1000     30  ...  33              Bechalor  female\n",
              "3     PAIDOFF       1000     15  ...  27               college    male\n",
              "4     PAIDOFF       1000     30  ...  28               college  female\n",
              "\n",
              "[5 rows x 8 columns]"
            ]
          },
          "metadata": {},
          "execution_count": 7
        }
      ]
    },
    {
      "cell_type": "markdown",
      "metadata": {
        "id": "nE2jkrogRJsK"
      },
      "source": [
        "### Exploring Data"
      ]
    },
    {
      "cell_type": "code",
      "metadata": {
        "button": false,
        "new_sheet": false,
        "run_control": {
          "read_only": false
        },
        "colab": {
          "base_uri": "https://localhost:8080/"
        },
        "id": "V8oAJcqOekOm",
        "outputId": "043fd660-024b-4b9d-d8f8-6d78c55afbbe"
      },
      "source": [
        "df['loan_status'].value_counts()"
      ],
      "execution_count": 8,
      "outputs": [
        {
          "output_type": "execute_result",
          "data": {
            "text/plain": [
              "PAIDOFF       300\n",
              "COLLECTION    100\n",
              "Name: loan_status, dtype: int64"
            ]
          },
          "metadata": {},
          "execution_count": 8
        }
      ]
    },
    {
      "cell_type": "markdown",
      "metadata": {
        "button": false,
        "new_sheet": false,
        "run_control": {
          "read_only": false
        },
        "id": "d1V7dUIOekOn"
      },
      "source": [
        "300 people have paid off the loan on time while 100 have gone into collection\n"
      ]
    },
    {
      "cell_type": "code",
      "metadata": {
        "colab": {
          "base_uri": "https://localhost:8080/",
          "height": 225
        },
        "id": "-1P6JRszekOp",
        "outputId": "d957b313-06c6-4d4b-8cd3-b932ff40eb41"
      },
      "source": [
        "bins = np.linspace(df.Principal.min(), df.Principal.max(), 10)\n",
        "g = sns.FacetGrid(df, col=\"Gender\", hue=\"loan_status\", palette=\"Set3\", col_wrap=2)\n",
        "g.map(plt.hist, 'Principal', bins=bins, ec=\"k\")\n",
        "\n",
        "g.axes[-1].legend()\n",
        "plt.show()"
      ],
      "execution_count": 9,
      "outputs": [
        {
          "output_type": "display_data",
          "data": {
            "image/png": "[encoded data removed]",
            "text/plain": [
              "<Figure size 432x216 with 2 Axes>"
            ]
          },
          "metadata": {
            "needs_background": "light"
          }
        }
      ]
    },
    {
      "cell_type": "code",
      "metadata": {
        "button": false,
        "new_sheet": false,
        "run_control": {
          "read_only": false
        },
        "colab": {
          "base_uri": "https://localhost:8080/",
          "height": 225
        },
        "id": "7AfVHACOekOp",
        "outputId": "8e4ffd90-6f1b-4350-e86a-5f9ad68add3f"
      },
      "source": [
        "bins = np.linspace(df.age.min(), df.age.max(), 10)\n",
        "g = sns.FacetGrid(df, col=\"Gender\", hue=\"loan_status\", palette=\"Set3\", col_wrap=2)\n",
        "g.map(plt.hist, 'age', bins=bins, ec=\"k\")\n",
        "\n",
        "g.axes[-1].legend()\n",
        "plt.show()"
      ],
      "execution_count": 10,
      "outputs": [
        {
          "output_type": "display_data",
          "data": {
            "image/png": "[encoded data removed]",
            "text/plain": [
              "<Figure size 432x216 with 2 Axes>"
            ]
          },
          "metadata": {
            "needs_background": "light"
          }
        }
      ]
    },
    {
      "cell_type": "markdown",
      "metadata": {
        "button": false,
        "new_sheet": false,
        "run_control": {
          "read_only": false
        },
        "id": "lfsKgymoekOq"
      },
      "source": [
        "## Feature selection/extraction\n"
      ]
    },
    {
      "cell_type": "markdown",
      "metadata": {
        "button": false,
        "new_sheet": false,
        "run_control": {
          "read_only": false
        },
        "id": "loAPnj4uekOr"
      },
      "source": [
        "### Day of the week people get the loan\n"
      ]
    },
    {
      "cell_type": "code",
      "metadata": {
        "button": false,
        "new_sheet": false,
        "run_control": {
          "read_only": false
        },
        "colab": {
          "base_uri": "https://localhost:8080/",
          "height": 225
        },
        "id": "A5piRh9gekOr",
        "outputId": "24f3fc9b-fbb8-4857-f973-76994660afad"
      },
      "source": [
        "df['dayofweek'] = df['effective_date'].dt.dayofweek\n",
        "\n",
        "bins = np.linspace(df.dayofweek.min(), df.dayofweek.max(), 7)\n",
        "g = sns.FacetGrid(df, col=\"Gender\", hue=\"loan_status\", palette=\"Set3\", col_wrap=2)\n",
        "g.map(plt.hist, 'dayofweek', bins=bins, ec=\"k\")\n",
        "g.axes[-1].legend()\n",
        "plt.show()\n"
      ],
      "execution_count": 11,
      "outputs": [
        {
          "output_type": "display_data",
          "data": {
            "image/png": "[encoded data removed]",
            "text/plain": [
              "<Figure size 432x216 with 2 Axes>"
            ]
          },
          "metadata": {
            "needs_background": "light"
          }
        }
      ]
    },
    {
      "cell_type": "markdown",
      "metadata": {
        "button": false,
        "new_sheet": false,
        "run_control": {
          "read_only": false
        },
        "id": "d3o6VNuSekOs"
      },
      "source": [
        "people who get the loan at the end of the week don't pay it off, so I will use Feature binarization to set a threshold value less than day 4\n"
      ]
    },
    {
      "cell_type": "code",
      "metadata": {
        "button": false,
        "new_sheet": false,
        "run_control": {
          "read_only": false
        },
        "colab": {
          "base_uri": "https://localhost:8080/",
          "height": 143
        },
        "id": "4y402JQFekOt",
        "outputId": "815f061b-c172-4c6e-ba54-de8024e1b51f"
      },
      "source": [
        "df['weekend'] = df['dayofweek'].apply(lambda x: 1 if (x>3)  else 0)\n",
        "df.head(3)"
      ],
      "execution_count": 12,
      "outputs": [
        {
          "output_type": "execute_result",
          "data": {
            "text/html": [
              "<div>\n",
              "<style scoped>\n",
              "    .dataframe tbody tr th:only-of-type {\n",
              "        vertical-align: middle;\n",
              "    }\n",
              "\n",
              "    .dataframe tbody tr th {\n",
              "        vertical-align: top;\n",
              "    }\n",
              "\n",
              "    .dataframe thead th {\n",
              "        text-align: right;\n",
              "    }\n",
              "</style>\n",
              "<table border=\"1\" class=\"dataframe\">\n",
              "  <thead>\n",
              "    <tr style=\"text-align: right;\">\n",
              "      <th></th>\n",
              "      <th>loan_status</th>\n",
              "      <th>Principal</th>\n",
              "      <th>terms</th>\n",
              "      <th>effective_date</th>\n",
              "      <th>due_date</th>\n",
              "      <th>age</th>\n",
              "      <th>education</th>\n",
              "      <th>Gender</th>\n",
              "      <th>dayofweek</th>\n",
              "      <th>weekend</th>\n",
              "    </tr>\n",
              "  </thead>\n",
              "  <tbody>\n",
              "    <tr>\n",
              "      <th>0</th>\n",
              "      <td>PAIDOFF</td>\n",
              "      <td>1000</td>\n",
              "      <td>30</td>\n",
              "      <td>2016-09-08</td>\n",
              "      <td>2016-10-07</td>\n",
              "      <td>45</td>\n",
              "      <td>High School or Below</td>\n",
              "      <td>male</td>\n",
              "      <td>3</td>\n",
              "      <td>0</td>\n",
              "    </tr>\n",
              "    <tr>\n",
              "      <th>1</th>\n",
              "      <td>PAIDOFF</td>\n",
              "      <td>1000</td>\n",
              "      <td>30</td>\n",
              "      <td>2016-09-08</td>\n",
              "      <td>2016-10-07</td>\n",
              "      <td>50</td>\n",
              "      <td>Bechalor</td>\n",
              "      <td>female</td>\n",
              "      <td>3</td>\n",
              "      <td>0</td>\n",
              "    </tr>\n",
              "    <tr>\n",
              "      <th>2</th>\n",
              "      <td>PAIDOFF</td>\n",
              "      <td>1000</td>\n",
              "      <td>30</td>\n",
              "      <td>2016-09-08</td>\n",
              "      <td>2016-10-07</td>\n",
              "      <td>33</td>\n",
              "      <td>Bechalor</td>\n",
              "      <td>female</td>\n",
              "      <td>3</td>\n",
              "      <td>0</td>\n",
              "    </tr>\n",
              "  </tbody>\n",
              "</table>\n",
              "</div>"
            ],
            "text/plain": [
              "  loan_status  Principal  terms  ...  Gender dayofweek  weekend\n",
              "0     PAIDOFF       1000     30  ...    male         3        0\n",
              "1     PAIDOFF       1000     30  ...  female         3        0\n",
              "2     PAIDOFF       1000     30  ...  female         3        0\n",
              "\n",
              "[3 rows x 10 columns]"
            ]
          },
          "metadata": {},
          "execution_count": 12
        }
      ]
    },
    {
      "cell_type": "code",
      "metadata": {
        "colab": {
          "base_uri": "https://localhost:8080/"
        },
        "id": "X7eYG9clOaGh",
        "outputId": "ea58fd61-2160-4e9d-fd35-318c31ea7c78"
      },
      "source": [
        "df.groupby(['weekend'])['loan_status'].value_counts(normalize=True)"
      ],
      "execution_count": 13,
      "outputs": [
        {
          "output_type": "execute_result",
          "data": {
            "text/plain": [
              "weekend  loan_status\n",
              "0        PAIDOFF        0.975155\n",
              "         COLLECTION     0.024845\n",
              "1        PAIDOFF        0.598326\n",
              "         COLLECTION     0.401674\n",
              "Name: loan_status, dtype: float64"
            ]
          },
          "metadata": {},
          "execution_count": 13
        }
      ]
    },
    {
      "cell_type": "markdown",
      "metadata": {
        "button": false,
        "new_sheet": false,
        "run_control": {
          "read_only": false
        },
        "id": "I1jZIgiRy6at"
      },
      "source": [
        "2 % of people who get there loan during working don't days pay theme off.\n",
        "\n",
        "40 % of people who get theirs during weekend don't pay them off.\n"
      ]
    },
    {
      "cell_type": "markdown",
      "metadata": {
        "button": false,
        "new_sheet": false,
        "run_control": {
          "read_only": false
        },
        "id": "vhH928VEWDvq"
      },
      "source": [
        "### Duration between effective date & due date\n"
      ]
    },
    {
      "cell_type": "code",
      "metadata": {
        "id": "YcO3y8FUyi7U"
      },
      "source": [
        "# duration in seconds\n",
        "duration = (df.due_date - df.effective_date).dt.total_seconds()\n",
        "# duration in day\n",
        "df['duration_days'] = (duration/(60*60*24)).astype(int)"
      ],
      "execution_count": 14,
      "outputs": []
    },
    {
      "cell_type": "code",
      "metadata": {
        "colab": {
          "base_uri": "https://localhost:8080/",
          "height": 225
        },
        "id": "bBngz2PXWPU_",
        "outputId": "3b09a7ed-67c8-4c8e-d9bb-3a6ae47f49a4"
      },
      "source": [
        "bins = np.linspace(df.duration_days.min(), df.duration_days.max(), 10)\n",
        "g = sns.FacetGrid(df, col=\"Gender\", hue=\"loan_status\", palette=\"Set3\", col_wrap=2)\n",
        "g.map(plt.hist, 'duration_days', bins=bins, ec=\"k\")\n",
        "g.axes[-1].legend()\n",
        "plt.show()"
      ],
      "execution_count": 15,
      "outputs": [
        {
          "output_type": "display_data",
          "data": {
            "image/png": "[encoded data removed]",
            "text/plain": [
              "<Figure size 432x216 with 2 Axes>"
            ]
          },
          "metadata": {
            "needs_background": "light"
          }
        }
      ]
    },
    {
      "cell_type": "markdown",
      "metadata": {
        "button": false,
        "new_sheet": false,
        "run_control": {
          "read_only": false
        },
        "id": "iVrle__iekOt"
      },
      "source": [
        "## Converting Categorical features to numerical values\n"
      ]
    },
    {
      "cell_type": "code",
      "metadata": {
        "button": false,
        "new_sheet": false,
        "run_control": {
          "read_only": false
        },
        "colab": {
          "base_uri": "https://localhost:8080/"
        },
        "id": "M8QcSjujekOu",
        "outputId": "53f48220-2cbb-49cf-84d4-df49be3644c7"
      },
      "source": [
        "df.groupby(['Gender'])['loan_status'].value_counts(normalize=True)"
      ],
      "execution_count": 16,
      "outputs": [
        {
          "output_type": "execute_result",
          "data": {
            "text/plain": [
              "Gender  loan_status\n",
              "female  PAIDOFF        0.841270\n",
              "        COLLECTION     0.158730\n",
              "male    PAIDOFF        0.732938\n",
              "        COLLECTION     0.267062\n",
              "Name: loan_status, dtype: float64"
            ]
          },
          "metadata": {},
          "execution_count": 16
        }
      ]
    },
    {
      "cell_type": "markdown",
      "metadata": {
        "button": false,
        "new_sheet": false,
        "run_control": {
          "read_only": false
        },
        "id": "dEPV1YH-ekOv"
      },
      "source": [
        "84 % of female pay there loans while only 73 % of males pay theirs\n"
      ]
    },
    {
      "cell_type": "markdown",
      "metadata": {
        "button": false,
        "new_sheet": false,
        "run_control": {
          "read_only": false
        },
        "id": "t3fV1ZNKekOv"
      },
      "source": [
        "converting male to 0 and female to 1:\n"
      ]
    },
    {
      "cell_type": "code",
      "metadata": {
        "button": false,
        "new_sheet": false,
        "run_control": {
          "read_only": false
        },
        "colab": {
          "base_uri": "https://localhost:8080/",
          "height": 206
        },
        "id": "K8qVSBDiekOw",
        "outputId": "ff784388-770d-46bd-fb80-2b67cf0b5803"
      },
      "source": [
        "df.Gender = df.Gender.map(dict(female=1, male=0))\n",
        "df.head()"
      ],
      "execution_count": 17,
      "outputs": [
        {
          "output_type": "execute_result",
          "data": {
            "text/html": [
              "<div>\n",
              "<style scoped>\n",
              "    .dataframe tbody tr th:only-of-type {\n",
              "        vertical-align: middle;\n",
              "    }\n",
              "\n",
              "    .dataframe tbody tr th {\n",
              "        vertical-align: top;\n",
              "    }\n",
              "\n",
              "    .dataframe thead th {\n",
              "        text-align: right;\n",
              "    }\n",
              "</style>\n",
              "<table border=\"1\" class=\"dataframe\">\n",
              "  <thead>\n",
              "    <tr style=\"text-align: right;\">\n",
              "      <th></th>\n",
              "      <th>loan_status</th>\n",
              "      <th>Principal</th>\n",
              "      <th>terms</th>\n",
              "      <th>effective_date</th>\n",
              "      <th>due_date</th>\n",
              "      <th>age</th>\n",
              "      <th>education</th>\n",
              "      <th>Gender</th>\n",
              "      <th>dayofweek</th>\n",
              "      <th>weekend</th>\n",
              "      <th>duration_days</th>\n",
              "    </tr>\n",
              "  </thead>\n",
              "  <tbody>\n",
              "    <tr>\n",
              "      <th>0</th>\n",
              "      <td>PAIDOFF</td>\n",
              "      <td>1000</td>\n",
              "      <td>30</td>\n",
              "      <td>2016-09-08</td>\n",
              "      <td>2016-10-07</td>\n",
              "      <td>45</td>\n",
              "      <td>High School or Below</td>\n",
              "      <td>0</td>\n",
              "      <td>3</td>\n",
              "      <td>0</td>\n",
              "      <td>29</td>\n",
              "    </tr>\n",
              "    <tr>\n",
              "      <th>1</th>\n",
              "      <td>PAIDOFF</td>\n",
              "      <td>1000</td>\n",
              "      <td>30</td>\n",
              "      <td>2016-09-08</td>\n",
              "      <td>2016-10-07</td>\n",
              "      <td>50</td>\n",
              "      <td>Bechalor</td>\n",
              "      <td>1</td>\n",
              "      <td>3</td>\n",
              "      <td>0</td>\n",
              "      <td>29</td>\n",
              "    </tr>\n",
              "    <tr>\n",
              "      <th>2</th>\n",
              "      <td>PAIDOFF</td>\n",
              "      <td>1000</td>\n",
              "      <td>30</td>\n",
              "      <td>2016-09-08</td>\n",
              "      <td>2016-10-07</td>\n",
              "      <td>33</td>\n",
              "      <td>Bechalor</td>\n",
              "      <td>1</td>\n",
              "      <td>3</td>\n",
              "      <td>0</td>\n",
              "      <td>29</td>\n",
              "    </tr>\n",
              "    <tr>\n",
              "      <th>3</th>\n",
              "      <td>PAIDOFF</td>\n",
              "      <td>1000</td>\n",
              "      <td>15</td>\n",
              "      <td>2016-09-08</td>\n",
              "      <td>2016-09-22</td>\n",
              "      <td>27</td>\n",
              "      <td>college</td>\n",
              "      <td>0</td>\n",
              "      <td>3</td>\n",
              "      <td>0</td>\n",
              "      <td>14</td>\n",
              "    </tr>\n",
              "    <tr>\n",
              "      <th>4</th>\n",
              "      <td>PAIDOFF</td>\n",
              "      <td>1000</td>\n",
              "      <td>30</td>\n",
              "      <td>2016-09-09</td>\n",
              "      <td>2016-10-08</td>\n",
              "      <td>28</td>\n",
              "      <td>college</td>\n",
              "      <td>1</td>\n",
              "      <td>4</td>\n",
              "      <td>1</td>\n",
              "      <td>29</td>\n",
              "    </tr>\n",
              "  </tbody>\n",
              "</table>\n",
              "</div>"
            ],
            "text/plain": [
              "  loan_status  Principal  terms  ... dayofweek weekend  duration_days\n",
              "0     PAIDOFF       1000     30  ...         3       0             29\n",
              "1     PAIDOFF       1000     30  ...         3       0             29\n",
              "2     PAIDOFF       1000     30  ...         3       0             29\n",
              "3     PAIDOFF       1000     15  ...         3       0             14\n",
              "4     PAIDOFF       1000     30  ...         4       1             29\n",
              "\n",
              "[5 rows x 11 columns]"
            ]
          },
          "metadata": {},
          "execution_count": 17
        }
      ]
    },
    {
      "cell_type": "markdown",
      "metadata": {
        "button": false,
        "new_sheet": false,
        "run_control": {
          "read_only": false
        },
        "id": "6ApbtoLXekOw"
      },
      "source": [
        "## One Hot Encoding\n"
      ]
    },
    {
      "cell_type": "code",
      "metadata": {
        "button": false,
        "new_sheet": false,
        "run_control": {
          "read_only": false
        },
        "colab": {
          "base_uri": "https://localhost:8080/"
        },
        "id": "d-5vGbwnekOw",
        "outputId": "79f3f1e4-952e-4b1c-d7e6-62313da493ff"
      },
      "source": [
        "df.groupby(['education'])['loan_status'].value_counts(normalize=False)"
      ],
      "execution_count": 18,
      "outputs": [
        {
          "output_type": "execute_result",
          "data": {
            "text/plain": [
              "education             loan_status\n",
              "Bechalor              PAIDOFF         41\n",
              "                      COLLECTION      11\n",
              "High School or Below  PAIDOFF        123\n",
              "                      COLLECTION      49\n",
              "Master or Above       PAIDOFF          3\n",
              "                      COLLECTION       1\n",
              "college               PAIDOFF        133\n",
              "                      COLLECTION      39\n",
              "Name: loan_status, dtype: int64"
            ]
          },
          "metadata": {},
          "execution_count": 18
        }
      ]
    },
    {
      "cell_type": "markdown",
      "metadata": {
        "button": false,
        "new_sheet": false,
        "run_control": {
          "read_only": false
        },
        "id": "6U4LdFngekOw"
      },
      "source": [
        "#### Features before One Hot Encoding\n"
      ]
    },
    {
      "cell_type": "code",
      "metadata": {
        "button": false,
        "new_sheet": false,
        "run_control": {
          "read_only": false
        },
        "colab": {
          "base_uri": "https://localhost:8080/",
          "height": 206
        },
        "id": "QvxL0uu8ekOx",
        "outputId": "1dc5929d-14a3-46cc-bcba-7a90039c9e86"
      },
      "source": [
        "df[['Principal','age','Gender','weekend','education']].head()"
      ],
      "execution_count": 19,
      "outputs": [
        {
          "output_type": "execute_result",
          "data": {
            "text/html": [
              "<div>\n",
              "<style scoped>\n",
              "    .dataframe tbody tr th:only-of-type {\n",
              "        vertical-align: middle;\n",
              "    }\n",
              "\n",
              "    .dataframe tbody tr th {\n",
              "        vertical-align: top;\n",
              "    }\n",
              "\n",
              "    .dataframe thead th {\n",
              "        text-align: right;\n",
              "    }\n",
              "</style>\n",
              "<table border=\"1\" class=\"dataframe\">\n",
              "  <thead>\n",
              "    <tr style=\"text-align: right;\">\n",
              "      <th></th>\n",
              "      <th>Principal</th>\n",
              "      <th>age</th>\n",
              "      <th>Gender</th>\n",
              "      <th>weekend</th>\n",
              "      <th>education</th>\n",
              "    </tr>\n",
              "  </thead>\n",
              "  <tbody>\n",
              "    <tr>\n",
              "      <th>0</th>\n",
              "      <td>1000</td>\n",
              "      <td>45</td>\n",
              "      <td>0</td>\n",
              "      <td>0</td>\n",
              "      <td>High School or Below</td>\n",
              "    </tr>\n",
              "    <tr>\n",
              "      <th>1</th>\n",
              "      <td>1000</td>\n",
              "      <td>50</td>\n",
              "      <td>1</td>\n",
              "      <td>0</td>\n",
              "      <td>Bechalor</td>\n",
              "    </tr>\n",
              "    <tr>\n",
              "      <th>2</th>\n",
              "      <td>1000</td>\n",
              "      <td>33</td>\n",
              "      <td>1</td>\n",
              "      <td>0</td>\n",
              "      <td>Bechalor</td>\n",
              "    </tr>\n",
              "    <tr>\n",
              "      <th>3</th>\n",
              "      <td>1000</td>\n",
              "      <td>27</td>\n",
              "      <td>0</td>\n",
              "      <td>0</td>\n",
              "      <td>college</td>\n",
              "    </tr>\n",
              "    <tr>\n",
              "      <th>4</th>\n",
              "      <td>1000</td>\n",
              "      <td>28</td>\n",
              "      <td>1</td>\n",
              "      <td>1</td>\n",
              "      <td>college</td>\n",
              "    </tr>\n",
              "  </tbody>\n",
              "</table>\n",
              "</div>"
            ],
            "text/plain": [
              "   Principal  age  Gender  weekend             education\n",
              "0       1000   45       0        0  High School or Below\n",
              "1       1000   50       1        0              Bechalor\n",
              "2       1000   33       1        0              Bechalor\n",
              "3       1000   27       0        0               college\n",
              "4       1000   28       1        1               college"
            ]
          },
          "metadata": {},
          "execution_count": 19
        }
      ]
    },
    {
      "cell_type": "markdown",
      "metadata": {
        "button": false,
        "new_sheet": false,
        "run_control": {
          "read_only": false
        },
        "id": "wVmj4pKCOyPx"
      },
      "source": [
        "#### Features after One Hot Encoding\n"
      ]
    },
    {
      "cell_type": "code",
      "metadata": {
        "button": false,
        "new_sheet": false,
        "run_control": {
          "read_only": false
        },
        "colab": {
          "base_uri": "https://localhost:8080/",
          "height": 206
        },
        "id": "agh3WJjrekOx",
        "outputId": "d60f62ab-9182-4ab5-ca32-277848e13127"
      },
      "source": [
        "feature = df[['Principal','age','duration_days','Gender','weekend']]\n",
        "feature = pd.concat([feature,pd.get_dummies(df['education'])], axis=1)\n",
        "feature.drop(['Master or Above'], axis = 1,inplace=True)\n",
        "feature.head()"
      ],
      "execution_count": 20,
      "outputs": [
        {
          "output_type": "execute_result",
          "data": {
            "text/html": [
              "<div>\n",
              "<style scoped>\n",
              "    .dataframe tbody tr th:only-of-type {\n",
              "        vertical-align: middle;\n",
              "    }\n",
              "\n",
              "    .dataframe tbody tr th {\n",
              "        vertical-align: top;\n",
              "    }\n",
              "\n",
              "    .dataframe thead th {\n",
              "        text-align: right;\n",
              "    }\n",
              "</style>\n",
              "<table border=\"1\" class=\"dataframe\">\n",
              "  <thead>\n",
              "    <tr style=\"text-align: right;\">\n",
              "      <th></th>\n",
              "      <th>Principal</th>\n",
              "      <th>age</th>\n",
              "      <th>duration_days</th>\n",
              "      <th>Gender</th>\n",
              "      <th>weekend</th>\n",
              "      <th>Bechalor</th>\n",
              "      <th>High School or Below</th>\n",
              "      <th>college</th>\n",
              "    </tr>\n",
              "  </thead>\n",
              "  <tbody>\n",
              "    <tr>\n",
              "      <th>0</th>\n",
              "      <td>1000</td>\n",
              "      <td>45</td>\n",
              "      <td>29</td>\n",
              "      <td>0</td>\n",
              "      <td>0</td>\n",
              "      <td>0</td>\n",
              "      <td>1</td>\n",
              "      <td>0</td>\n",
              "    </tr>\n",
              "    <tr>\n",
              "      <th>1</th>\n",
              "      <td>1000</td>\n",
              "      <td>50</td>\n",
              "      <td>29</td>\n",
              "      <td>1</td>\n",
              "      <td>0</td>\n",
              "      <td>1</td>\n",
              "      <td>0</td>\n",
              "      <td>0</td>\n",
              "    </tr>\n",
              "    <tr>\n",
              "      <th>2</th>\n",
              "      <td>1000</td>\n",
              "      <td>33</td>\n",
              "      <td>29</td>\n",
              "      <td>1</td>\n",
              "      <td>0</td>\n",
              "      <td>1</td>\n",
              "      <td>0</td>\n",
              "      <td>0</td>\n",
              "    </tr>\n",
              "    <tr>\n",
              "      <th>3</th>\n",
              "      <td>1000</td>\n",
              "      <td>27</td>\n",
              "      <td>14</td>\n",
              "      <td>0</td>\n",
              "      <td>0</td>\n",
              "      <td>0</td>\n",
              "      <td>0</td>\n",
              "      <td>1</td>\n",
              "    </tr>\n",
              "    <tr>\n",
              "      <th>4</th>\n",
              "      <td>1000</td>\n",
              "      <td>28</td>\n",
              "      <td>29</td>\n",
              "      <td>1</td>\n",
              "      <td>1</td>\n",
              "      <td>0</td>\n",
              "      <td>0</td>\n",
              "      <td>1</td>\n",
              "    </tr>\n",
              "  </tbody>\n",
              "</table>\n",
              "</div>"
            ],
            "text/plain": [
              "   Principal  age  duration_days  ...  Bechalor  High School or Below  college\n",
              "0       1000   45             29  ...         0                     1        0\n",
              "1       1000   50             29  ...         1                     0        0\n",
              "2       1000   33             29  ...         1                     0        0\n",
              "3       1000   27             14  ...         0                     0        1\n",
              "4       1000   28             29  ...         0                     0        1\n",
              "\n",
              "[5 rows x 8 columns]"
            ]
          },
          "metadata": {},
          "execution_count": 20
        }
      ]
    },
    {
      "cell_type": "markdown",
      "metadata": {
        "button": false,
        "new_sheet": false,
        "run_control": {
          "read_only": false
        },
        "id": "aNQRhoLoekOy"
      },
      "source": [
        "### Feature Selection\n"
      ]
    },
    {
      "cell_type": "code",
      "metadata": {
        "button": false,
        "new_sheet": false,
        "run_control": {
          "read_only": false
        },
        "id": "dbvCrhHsekOy"
      },
      "source": [
        "X = feature"
      ],
      "execution_count": 21,
      "outputs": []
    },
    {
      "cell_type": "code",
      "metadata": {
        "button": false,
        "new_sheet": false,
        "run_control": {
          "read_only": false
        },
        "colab": {
          "base_uri": "https://localhost:8080/"
        },
        "id": "ts5YNmm2ekO1",
        "outputId": "38f1ae57-55f6-46dc-fa05-fd0a3166bf49"
      },
      "source": [
        "y = df['loan_status'].values\n",
        "np.unique(y, return_counts=True)"
      ],
      "execution_count": 22,
      "outputs": [
        {
          "output_type": "execute_result",
          "data": {
            "text/plain": [
              "(array(['COLLECTION', 'PAIDOFF'], dtype=object), array([100, 300]))"
            ]
          },
          "metadata": {},
          "execution_count": 22
        }
      ]
    },
    {
      "cell_type": "markdown",
      "metadata": {
        "id": "pD2S0jXtnQDK"
      },
      "source": [
        "As we can see, the target variable is imbalanced (COLLECTION=100, PAIDOFF=300). Thus, we will use SMOTE-NC to over-sample the minority class. The oversampling must be done after splitting data into training & testing sets"
      ]
    },
    {
      "cell_type": "markdown",
      "metadata": {
        "button": false,
        "new_sheet": false,
        "run_control": {
          "read_only": false
        },
        "id": "jb_E-zPQao4U"
      },
      "source": [
        "## Splitting Data\n"
      ]
    },
    {
      "cell_type": "code",
      "metadata": {
        "colab": {
          "base_uri": "https://localhost:8080/"
        },
        "id": "Nr-z_gFld__Y",
        "outputId": "e4b9c8d1-57b5-4064-842c-a2f0e3185c6a"
      },
      "source": [
        "X_train, X_test, y_train, y_test = train_test_split( X, y, test_size=0.25, random_state=100)\n",
        "\n",
        "print ('Train set:', X_train.shape,  y_train.shape)\n",
        "print ('Test set:', X_test.shape,  y_test.shape)"
      ],
      "execution_count": 23,
      "outputs": [
        {
          "output_type": "stream",
          "name": "stdout",
          "text": [
            "Train set: (300, 8) (300,)\n",
            "Test set: (100, 8) (100,)\n"
          ]
        }
      ]
    },
    {
      "cell_type": "code",
      "metadata": {
        "colab": {
          "base_uri": "https://localhost:8080/"
        },
        "id": "xQUTTHpqiCn2",
        "outputId": "ab03ee2e-1197-4115-a249-a94f7436b953"
      },
      "source": [
        "np.unique(y_train, return_counts=True)"
      ],
      "execution_count": 24,
      "outputs": [
        {
          "output_type": "execute_result",
          "data": {
            "text/plain": [
              "(array(['COLLECTION', 'PAIDOFF'], dtype=object), array([ 78, 222]))"
            ]
          },
          "metadata": {},
          "execution_count": 24
        }
      ]
    },
    {
      "cell_type": "markdown",
      "metadata": {
        "id": "JB_ow2WSocep"
      },
      "source": [
        "In our training set, the minority class is COLLECTION with 78 occurences. The Majority class is PAIDOFF with 222 occurences.\n",
        "\n",
        "We will balance the target classes using the SMOTE-NC technique."
      ]
    },
    {
      "cell_type": "markdown",
      "metadata": {
        "id": "C3AukBr4wfS3"
      },
      "source": [
        "## Minority Oversampling "
      ]
    },
    {
      "cell_type": "code",
      "metadata": {
        "id": "eYmPaNUchv6v"
      },
      "source": [
        "from imblearn.over_sampling import SMOTENC"
      ],
      "execution_count": 25,
      "outputs": []
    },
    {
      "cell_type": "code",
      "metadata": {
        "colab": {
          "base_uri": "https://localhost:8080/",
          "height": 143
        },
        "id": "f4SFJw_P1GfS",
        "outputId": "2b6c367c-0d99-490c-9696-195493e99279"
      },
      "source": [
        "X_train.head(3)"
      ],
      "execution_count": 26,
      "outputs": [
        {
          "output_type": "execute_result",
          "data": {
            "text/html": [
              "<div>\n",
              "<style scoped>\n",
              "    .dataframe tbody tr th:only-of-type {\n",
              "        vertical-align: middle;\n",
              "    }\n",
              "\n",
              "    .dataframe tbody tr th {\n",
              "        vertical-align: top;\n",
              "    }\n",
              "\n",
              "    .dataframe thead th {\n",
              "        text-align: right;\n",
              "    }\n",
              "</style>\n",
              "<table border=\"1\" class=\"dataframe\">\n",
              "  <thead>\n",
              "    <tr style=\"text-align: right;\">\n",
              "      <th></th>\n",
              "      <th>Principal</th>\n",
              "      <th>age</th>\n",
              "      <th>duration_days</th>\n",
              "      <th>Gender</th>\n",
              "      <th>weekend</th>\n",
              "      <th>Bechalor</th>\n",
              "      <th>High School or Below</th>\n",
              "      <th>college</th>\n",
              "    </tr>\n",
              "  </thead>\n",
              "  <tbody>\n",
              "    <tr>\n",
              "      <th>163</th>\n",
              "      <td>1000</td>\n",
              "      <td>27</td>\n",
              "      <td>14</td>\n",
              "      <td>1</td>\n",
              "      <td>0</td>\n",
              "      <td>0</td>\n",
              "      <td>0</td>\n",
              "      <td>1</td>\n",
              "    </tr>\n",
              "    <tr>\n",
              "      <th>229</th>\n",
              "      <td>800</td>\n",
              "      <td>26</td>\n",
              "      <td>14</td>\n",
              "      <td>0</td>\n",
              "      <td>0</td>\n",
              "      <td>0</td>\n",
              "      <td>0</td>\n",
              "      <td>1</td>\n",
              "    </tr>\n",
              "    <tr>\n",
              "      <th>213</th>\n",
              "      <td>1000</td>\n",
              "      <td>27</td>\n",
              "      <td>29</td>\n",
              "      <td>0</td>\n",
              "      <td>0</td>\n",
              "      <td>0</td>\n",
              "      <td>1</td>\n",
              "      <td>0</td>\n",
              "    </tr>\n",
              "  </tbody>\n",
              "</table>\n",
              "</div>"
            ],
            "text/plain": [
              "     Principal  age  duration_days  ...  Bechalor  High School or Below  college\n",
              "163       1000   27             14  ...         0                     0        1\n",
              "229        800   26             14  ...         0                     0        1\n",
              "213       1000   27             29  ...         0                     1        0\n",
              "\n",
              "[3 rows x 8 columns]"
            ]
          },
          "metadata": {},
          "execution_count": 26
        }
      ]
    },
    {
      "cell_type": "code",
      "metadata": {
        "id": "yFQG4NHIpqUG"
      },
      "source": [
        "# For SMOTE-NC we need to pinpoint the column position of the categorical features\n",
        "smote_nc = SMOTENC(categorical_features= [3,4,5,6,7], sampling_strategy='minority', random_state=100)\n",
        "X_train_smote, y_train_smote = smote_nc.fit_resample(X_train, y_train)"
      ],
      "execution_count": 27,
      "outputs": []
    },
    {
      "cell_type": "code",
      "metadata": {
        "colab": {
          "base_uri": "https://localhost:8080/"
        },
        "id": "DmHXVgqUiY_r",
        "outputId": "d395891b-2db1-4599-b239-b30983871103"
      },
      "source": [
        "np.unique(y_train_smote, return_counts=True)"
      ],
      "execution_count": 28,
      "outputs": [
        {
          "output_type": "execute_result",
          "data": {
            "text/plain": [
              "(array(['COLLECTION', 'PAIDOFF'], dtype=object), array([222, 222]))"
            ]
          },
          "metadata": {},
          "execution_count": 28
        }
      ]
    },
    {
      "cell_type": "markdown",
      "metadata": {
        "id": "NwtNAflTvP_y"
      },
      "source": [
        "The target variable is now balanced"
      ]
    },
    {
      "cell_type": "markdown",
      "metadata": {
        "button": false,
        "new_sheet": false,
        "run_control": {
          "read_only": false
        },
        "id": "5XyyKoTxekO2"
      },
      "source": [
        "## Normalizing Data\n",
        "(technically should be done after splitting data)"
      ]
    },
    {
      "cell_type": "code",
      "metadata": {
        "button": false,
        "new_sheet": false,
        "run_control": {
          "read_only": false
        },
        "colab": {
          "base_uri": "https://localhost:8080/"
        },
        "id": "yCdxSoI8ekO2",
        "outputId": "81b3fac7-1b05-4b1c-b5ab-f1f22b5960a7"
      },
      "source": [
        "X_train_smote = preprocessing.StandardScaler().fit(X_train_smote).transform(X_train_smote)\n",
        "X_train_smote.shape"
      ],
      "execution_count": 29,
      "outputs": [
        {
          "output_type": "execute_result",
          "data": {
            "text/plain": [
              "(444, 8)"
            ]
          },
          "metadata": {},
          "execution_count": 29
        }
      ]
    },
    {
      "cell_type": "markdown",
      "metadata": {
        "button": false,
        "new_sheet": false,
        "run_control": {
          "read_only": false
        },
        "id": "i740hpL0ekO2"
      },
      "source": [
        "# Training Classification Models"
      ]
    },
    {
      "cell_type": "code",
      "metadata": {
        "id": "opm71erCgDc8"
      },
      "source": [
        "from sklearn.model_selection import cross_val_score\n",
        "from sklearn.model_selection import GridSearchCV"
      ],
      "execution_count": 30,
      "outputs": []
    },
    {
      "cell_type": "markdown",
      "metadata": {
        "id": "L_rRWhR7h2MT"
      },
      "source": [
        "We further split the training sets into train and validation sets."
      ]
    },
    {
      "cell_type": "code",
      "metadata": {
        "scrolled": true,
        "colab": {
          "base_uri": "https://localhost:8080/"
        },
        "id": "N-rGL09HwN9r",
        "outputId": "a35bfd52-c47e-4afd-e897-eedd1fbfcf94"
      },
      "source": [
        "X_train1, X_val, y_train1, y_val = train_test_split(X_train_smote, y_train_smote, test_size=0.2, random_state=100)\n",
        "print ('Train Set:', X_train1.shape,  y_train1.shape)\n",
        "print ('Validation Set:', X_val.shape,  y_val.shape)"
      ],
      "execution_count": 31,
      "outputs": [
        {
          "output_type": "stream",
          "name": "stdout",
          "text": [
            "Train Set: (355, 8) (355,)\n",
            "Validation Set: (89, 8) (89,)\n"
          ]
        }
      ]
    },
    {
      "cell_type": "markdown",
      "metadata": {
        "id": "8oPOc1vxekO3"
      },
      "source": [
        "## K Nearest Neighbor(KNN)"
      ]
    },
    {
      "cell_type": "code",
      "metadata": {
        "id": "AbaMBNUzekO3"
      },
      "source": [
        "from sklearn.neighbors import KNeighborsClassifier"
      ],
      "execution_count": 32,
      "outputs": []
    },
    {
      "cell_type": "code",
      "metadata": {
        "colab": {
          "base_uri": "https://localhost:8080/"
        },
        "id": "mk9l1C-Fc5fq",
        "outputId": "1820e8dc-be48-4de2-cfd2-b6b9c08fb908"
      },
      "source": [
        "# Finding the best K\n",
        "params = {'n_neighbors':[*range(2, 31, 1)],}\n",
        "\n",
        "model_trial = KNeighborsClassifier()\n",
        "grid_search = GridSearchCV(model_trial, params, scoring='accuracy', cv=10)\n",
        "grid_search.fit(X_train_smote, y_train_smote)\n",
        "grid_search.best_estimator_"
      ],
      "execution_count": 33,
      "outputs": [
        {
          "output_type": "execute_result",
          "data": {
            "text/plain": [
              "KNeighborsClassifier(n_neighbors=7)"
            ]
          },
          "metadata": {},
          "execution_count": 33
        }
      ]
    },
    {
      "cell_type": "code",
      "metadata": {
        "colab": {
          "base_uri": "https://localhost:8080/"
        },
        "id": "oSbdr4Z33vi9",
        "outputId": "cb585830-8549-41c3-f03c-7ee96e06b895"
      },
      "source": [
        "# Fitting Model\n",
        "k=7\n",
        "\n",
        "knn_model = KNeighborsClassifier(n_neighbors = k)\n",
        "knn_model.fit(X_train_smote, y_train_smote)"
      ],
      "execution_count": 34,
      "outputs": [
        {
          "output_type": "execute_result",
          "data": {
            "text/plain": [
              "KNeighborsClassifier(n_neighbors=7)"
            ]
          },
          "metadata": {},
          "execution_count": 34
        }
      ]
    },
    {
      "cell_type": "markdown",
      "metadata": {
        "id": "zw3oUx-3ekO4"
      },
      "source": [
        "## Decision Tree\n"
      ]
    },
    {
      "cell_type": "markdown",
      "metadata": {
        "id": "6TXL723jekO4"
      },
      "source": [
        "Model"
      ]
    },
    {
      "cell_type": "code",
      "metadata": {
        "id": "d6qdNAyQekO5"
      },
      "source": [
        "from sklearn.tree import DecisionTreeClassifier\n",
        "from sklearn import tree\n",
        "\n",
        "import pydotplus\n",
        "from IPython.display import Image, HTML"
      ],
      "execution_count": 35,
      "outputs": []
    },
    {
      "cell_type": "code",
      "metadata": {
        "colab": {
          "base_uri": "https://localhost:8080/"
        },
        "id": "sEfTkv48zUsM",
        "outputId": "a66233b0-e858-4d6f-fc68-3d3ff3797a94"
      },
      "source": [
        "# Finding the best hyperparams\n",
        "params = {'max_depth': [*range(1, 11, 1)],\n",
        "          'max_leaf_nodes': [*range(2, 11, 1)]}          \n",
        "\n",
        "model_trial = DecisionTreeClassifier()\n",
        "grid_search = GridSearchCV(model_trial, params, scoring='accuracy', cv=10)\n",
        "grid_search.fit(X_train_smote, y_train_smote)\n",
        "grid_search.best_estimator_"
      ],
      "execution_count": 36,
      "outputs": [
        {
          "output_type": "execute_result",
          "data": {
            "text/plain": [
              "DecisionTreeClassifier(max_depth=3, max_leaf_nodes=4)"
            ]
          },
          "metadata": {},
          "execution_count": 36
        }
      ]
    },
    {
      "cell_type": "code",
      "metadata": {
        "colab": {
          "base_uri": "https://localhost:8080/"
        },
        "id": "i-gW9d_HekO5",
        "outputId": "0b33bec9-7fa3-4b79-e49a-33568e472a9b"
      },
      "source": [
        "# Fitting the model\n",
        "max_depth = 3\n",
        "max_leaf = 4\n",
        "\n",
        "tree_model = DecisionTreeClassifier(max_depth=max_depth, \n",
        "                                    max_leaf_nodes=max_leaf)\n",
        "tree_model.fit(X_train_smote, y_train_smote)"
      ],
      "execution_count": 37,
      "outputs": [
        {
          "output_type": "execute_result",
          "data": {
            "text/plain": [
              "DecisionTreeClassifier(max_depth=3, max_leaf_nodes=4)"
            ]
          },
          "metadata": {},
          "execution_count": 37
        }
      ]
    },
    {
      "cell_type": "code",
      "metadata": {
        "id": "v-fqu_qkskSC"
      },
      "source": [
        "def tree_graph(tree_model):\n",
        "  #Creating Dot Data\n",
        "  dot_data = tree.export_graphviz(tree_model, \n",
        "                                 out_file=None, \n",
        "                                 feature_names=list(X.columns.values), \n",
        "                                 class_names=tree_model.classes_, \n",
        "                                 rounded=True, \n",
        "                                 filled=True) \n",
        "\n",
        "  #Creating Graph from DOT data\n",
        "  graph = pydotplus.graph_from_dot_data(dot_data)\n",
        "\n",
        "  # Show graph\n",
        "  display(Image(graph.create_png()))"
      ],
      "execution_count": 38,
      "outputs": []
    },
    {
      "cell_type": "code",
      "metadata": {
        "colab": {
          "base_uri": "https://localhost:8080/",
          "height": 594
        },
        "id": "dC3m_VYrY1EC",
        "outputId": "d9806e43-6bbf-447d-9156-f7a52141fa06"
      },
      "source": [
        "tree_graph(tree_model)"
      ],
      "execution_count": 39,
      "outputs": [
        {
          "output_type": "display_data",
          "data": {
            "image/png": "[encoded data removed]",
            "text/plain": [
              "<IPython.core.display.Image object>"
            ]
          },
          "metadata": {}
        }
      ]
    },
    {
      "cell_type": "markdown",
      "metadata": {
        "id": "Xk6QYQysekO5"
      },
      "source": [
        "## Support Vector Machine\n"
      ]
    },
    {
      "cell_type": "code",
      "metadata": {
        "id": "NtDbDS5lekO6"
      },
      "source": [
        "from sklearn import svm"
      ],
      "execution_count": 40,
      "outputs": []
    },
    {
      "cell_type": "code",
      "metadata": {
        "colab": {
          "base_uri": "https://localhost:8080/"
        },
        "id": "PqNJzCZ14Cs_",
        "outputId": "2bf56249-9dd2-4397-9395-b3444c8e9049"
      },
      "source": [
        "# Finding the best hyperparams\n",
        "params = {'C': [10, 1],\n",
        "          'degree': [*range(1, 10, 1)],\n",
        "          'probability': [True, False]}\n",
        "\n",
        "model_trial = svm.SVC()\n",
        "grid_search = GridSearchCV(model_trial, params, scoring='accuracy', cv=10)\n",
        "grid_search.fit(X_train_smote, y_train_smote)\n",
        "grid_search.best_estimator_"
      ],
      "execution_count": 41,
      "outputs": [
        {
          "output_type": "execute_result",
          "data": {
            "text/plain": [
              "SVC(C=1, degree=1, probability=True)"
            ]
          },
          "metadata": {},
          "execution_count": 41
        }
      ]
    },
    {
      "cell_type": "code",
      "metadata": {
        "colab": {
          "base_uri": "https://localhost:8080/"
        },
        "id": "4x3qyejOekO6",
        "outputId": "c39f68bf-999a-47e6-c900-fae114ba23e2"
      },
      "source": [
        "# Fitting the model\n",
        "C = 1\n",
        "degree = 1\n",
        "probability = True\n",
        "\n",
        "svm_model = svm.SVC(C=C, \n",
        "                    degree=degree,\n",
        "                    probability=probability)\n",
        "\n",
        "svm_model.fit(X_train_smote, y_train_smote) "
      ],
      "execution_count": 42,
      "outputs": [
        {
          "output_type": "execute_result",
          "data": {
            "text/plain": [
              "SVC(C=1, degree=1, probability=True)"
            ]
          },
          "metadata": {},
          "execution_count": 42
        }
      ]
    },
    {
      "cell_type": "markdown",
      "metadata": {
        "id": "0rAG7s9gekO6"
      },
      "source": [
        "## Logistic Regression\n"
      ]
    },
    {
      "cell_type": "code",
      "metadata": {
        "id": "6enuwhh1ekO6"
      },
      "source": [
        "from sklearn.linear_model import LogisticRegression"
      ],
      "execution_count": 43,
      "outputs": []
    },
    {
      "cell_type": "code",
      "metadata": {
        "colab": {
          "base_uri": "https://localhost:8080/"
        },
        "id": "KzJw043TATM-",
        "outputId": "00ba8ca5-1553-4c84-9d5a-8c3ce6453f8b"
      },
      "source": [
        "# Finding the best hyperparams\n",
        "params = {\n",
        "    'C': [10, 1],\n",
        "    'max_iter': [1000, 100],\n",
        "    'solver': ['newton-cg', 'lbfgs', 'liblinear', 'sag', 'saga']\n",
        "          }\n",
        "\n",
        "model_trial = LogisticRegression()\n",
        "grid_search = GridSearchCV(model_trial, params, scoring='accuracy', cv=10)\n",
        "grid_search.fit(X_train_smote, y_train_smote)\n",
        "grid_search.best_estimator_"
      ],
      "execution_count": 44,
      "outputs": [
        {
          "output_type": "stream",
          "name": "stderr",
          "text": [
            "/usr/local/lib/python3.7/dist-packages/sklearn/linear_model/_sag.py:354: ConvergenceWarning: The max_iter was reached which means the coef_ did not converge\n",
            "  ConvergenceWarning,\n",
            "/usr/local/lib/python3.7/dist-packages/sklearn/linear_model/_sag.py:354: ConvergenceWarning: The max_iter was reached which means the coef_ did not converge\n",
            "  ConvergenceWarning,\n"
          ]
        },
        {
          "output_type": "execute_result",
          "data": {
            "text/plain": [
              "LogisticRegression(C=1, max_iter=1000, solver='newton-cg')"
            ]
          },
          "metadata": {},
          "execution_count": 44
        }
      ]
    },
    {
      "cell_type": "code",
      "metadata": {
        "id": "V2vtpu69ekO6",
        "colab": {
          "base_uri": "https://localhost:8080/"
        },
        "outputId": "d73b59b6-c525-42d3-db9c-cf2a6c3d84de"
      },
      "source": [
        "# Fitting the model\n",
        "C = 1\n",
        "max_iter = 1000 \n",
        "solver = 'newton-cg'\n",
        "\n",
        "logistic_model = LogisticRegression(C=C, \n",
        "                                    max_iter=max_iter, \n",
        "                                    solver=solver)\n",
        "\n",
        "logistic_model.fit(X_train_smote, y_train_smote)"
      ],
      "execution_count": 45,
      "outputs": [
        {
          "output_type": "execute_result",
          "data": {
            "text/plain": [
              "LogisticRegression(C=1, max_iter=1000, solver='newton-cg')"
            ]
          },
          "metadata": {},
          "execution_count": 45
        }
      ]
    },
    {
      "cell_type": "markdown",
      "metadata": {
        "id": "azlgV-wU3duo"
      },
      "source": [
        "<w>"
      ]
    },
    {
      "cell_type": "markdown",
      "metadata": {
        "id": "-aNpv6ZBekO7"
      },
      "source": [
        "# Model Evaluation using Test set\n"
      ]
    },
    {
      "cell_type": "markdown",
      "metadata": {
        "id": "pCBPl-cB6HKd"
      },
      "source": [
        "Libraries"
      ]
    },
    {
      "cell_type": "code",
      "metadata": {
        "id": "NhZpAgm8ekO7"
      },
      "source": [
        "from sklearn.metrics import confusion_matrix, ConfusionMatrixDisplay\n",
        "from sklearn.metrics import accuracy_score, balanced_accuracy_score\n",
        "from sklearn.metrics import precision_score, recall_score, jaccard_score, f1_score"
      ],
      "execution_count": 46,
      "outputs": []
    },
    {
      "cell_type": "markdown",
      "metadata": {
        "id": "E9dw7Z2KiMV-"
      },
      "source": [
        "Confusion matrix"
      ]
    },
    {
      "cell_type": "code",
      "metadata": {
        "id": "EJ-pHWxv3Qtt"
      },
      "source": [
        "def confusion_matrix_plot(model, y, yhat):\n",
        "  cm = confusion_matrix(y, yhat)\n",
        "  cm_display = ConfusionMatrixDisplay(cm, display_labels=model.classes_)\n",
        "  cm_display.plot(cmap='Blues')\n",
        "  plt.show()\n"
      ],
      "execution_count": 47,
      "outputs": []
    },
    {
      "cell_type": "markdown",
      "metadata": {
        "id": "bOA4WOqF6Jx-"
      },
      "source": [
        "Evaluation metrics"
      ]
    },
    {
      "cell_type": "code",
      "metadata": {
        "id": "zma_BGzBAIES"
      },
      "source": [
        "def model_evaluation(algorithm_name, yhat_test):\n",
        "  \n",
        "  balanced_accuracy_test = balanced_accuracy_score(y_test, yhat_test)\n",
        "  accuracy_test = accuracy_score(y_test, yhat_test)\n",
        "  precision = precision_score(y_test, yhat_test, pos_label='PAIDOFF')\n",
        "  recall = recall_score(y_test, yhat_test, pos_label='PAIDOFF')\n",
        "  jaccard = jaccard_score(y_test, yhat_test, pos_label='PAIDOFF')\n",
        "  f1score = f1_score(y_test, yhat_test, average='weighted')\n",
        "\n",
        "  evaluation_table = pd.DataFrame({'Test Accuracy': accuracy_test,\n",
        "                                   'Balanced Accuracy': balanced_accuracy_test, \n",
        "                                   'Precision': precision, \n",
        "                                   'Recall': recall,\n",
        "                                   'Jaccard-Score': jaccard, \n",
        "                                   'F1-Score': f1score},\n",
        "                                    index=[algorithm_name])\n",
        "  \n",
        "  return evaluation_table"
      ],
      "execution_count": 48,
      "outputs": []
    },
    {
      "cell_type": "markdown",
      "metadata": {
        "button": false,
        "new_sheet": false,
        "run_control": {
          "read_only": false
        },
        "id": "ucvB8MytekO9"
      },
      "source": [
        "Standardizing the test set\n"
      ]
    },
    {
      "cell_type": "code",
      "metadata": {
        "colab": {
          "base_uri": "https://localhost:8080/"
        },
        "id": "p5bRxgoIC62o",
        "outputId": "df9e07d2-fca1-405b-c0c8-27c10643b6f1"
      },
      "source": [
        "X_test = preprocessing.StandardScaler().fit(X_test).transform(X_test)\n",
        "X_test.shape"
      ],
      "execution_count": 49,
      "outputs": [
        {
          "output_type": "execute_result",
          "data": {
            "text/plain": [
              "(100, 8)"
            ]
          },
          "metadata": {},
          "execution_count": 49
        }
      ]
    },
    {
      "cell_type": "markdown",
      "metadata": {
        "id": "J3iuV6bnekO9"
      },
      "source": [
        "## KNN Evaluation"
      ]
    },
    {
      "cell_type": "code",
      "metadata": {
        "id": "o0GutrA5ekO9"
      },
      "source": [
        "yhat_knn_test = knn_model.predict(X_test)\n",
        "yhat_prob_knn_test = (knn_model.predict_proba(X_test))[:,1]"
      ],
      "execution_count": 50,
      "outputs": []
    },
    {
      "cell_type": "code",
      "metadata": {
        "colab": {
          "base_uri": "https://localhost:8080/",
          "height": 279
        },
        "id": "O3q8UFLOwEkZ",
        "outputId": "8ebc5a6f-f64d-48a9-fdae-572578a7ecb8"
      },
      "source": [
        "confusion_matrix_plot(knn_model, y_test, yhat_knn_test)"
      ],
      "execution_count": 51,
      "outputs": [
        {
          "output_type": "display_data",
          "data": {
            "image/png": "[encoded data removed]",
            "text/plain": [
              "<Figure size 432x288 with 2 Axes>"
            ]
          },
          "metadata": {
            "needs_background": "light"
          }
        }
      ]
    },
    {
      "cell_type": "code",
      "metadata": {
        "colab": {
          "base_uri": "https://localhost:8080/",
          "height": 81
        },
        "id": "taXXtVnHAPIi",
        "outputId": "c00f5e94-0d40-4547-c72e-4976dc72cf33"
      },
      "source": [
        "knn_eval = model_evaluation('KNN', yhat_knn_test)\n",
        "knn_eval"
      ],
      "execution_count": 52,
      "outputs": [
        {
          "output_type": "execute_result",
          "data": {
            "text/html": [
              "<div>\n",
              "<style scoped>\n",
              "    .dataframe tbody tr th:only-of-type {\n",
              "        vertical-align: middle;\n",
              "    }\n",
              "\n",
              "    .dataframe tbody tr th {\n",
              "        vertical-align: top;\n",
              "    }\n",
              "\n",
              "    .dataframe thead th {\n",
              "        text-align: right;\n",
              "    }\n",
              "</style>\n",
              "<table border=\"1\" class=\"dataframe\">\n",
              "  <thead>\n",
              "    <tr style=\"text-align: right;\">\n",
              "      <th></th>\n",
              "      <th>Test Accuracy</th>\n",
              "      <th>Balanced Accuracy</th>\n",
              "      <th>Precision</th>\n",
              "      <th>Recall</th>\n",
              "      <th>Jaccard-Score</th>\n",
              "      <th>F1-Score</th>\n",
              "    </tr>\n",
              "  </thead>\n",
              "  <tbody>\n",
              "    <tr>\n",
              "      <th>KNN</th>\n",
              "      <td>0.71</td>\n",
              "      <td>0.732517</td>\n",
              "      <td>0.915254</td>\n",
              "      <td>0.692308</td>\n",
              "      <td>0.650602</td>\n",
              "      <td>0.733621</td>\n",
              "    </tr>\n",
              "  </tbody>\n",
              "</table>\n",
              "</div>"
            ],
            "text/plain": [
              "     Test Accuracy  Balanced Accuracy  ...  Jaccard-Score  F1-Score\n",
              "KNN           0.71           0.732517  ...       0.650602  0.733621\n",
              "\n",
              "[1 rows x 6 columns]"
            ]
          },
          "metadata": {},
          "execution_count": 52
        }
      ]
    },
    {
      "cell_type": "markdown",
      "metadata": {
        "id": "kODvQ-iN3aaq"
      },
      "source": [
        "<w>"
      ]
    },
    {
      "cell_type": "markdown",
      "metadata": {
        "id": "TZuWI2WfekO-"
      },
      "source": [
        "## Decision Tree Evaluation"
      ]
    },
    {
      "cell_type": "code",
      "metadata": {
        "id": "TYSq5gpXekO-"
      },
      "source": [
        "yhat_tree_test = tree_model.predict(X_test)\n",
        "yhat_prob_tree_test = (tree_model.predict_proba(X_test))[:,1]"
      ],
      "execution_count": 53,
      "outputs": []
    },
    {
      "cell_type": "code",
      "metadata": {
        "colab": {
          "base_uri": "https://localhost:8080/",
          "height": 279
        },
        "id": "3r0Rhk2XlNht",
        "outputId": "593bf25e-c912-4fba-f523-cd20f283744e"
      },
      "source": [
        "confusion_matrix_plot(tree_model, y_test, yhat_tree_test)"
      ],
      "execution_count": 54,
      "outputs": [
        {
          "output_type": "display_data",
          "data": {
            "image/png": "[encoded data removed]",
            "text/plain": [
              "<Figure size 432x288 with 2 Axes>"
            ]
          },
          "metadata": {
            "needs_background": "light"
          }
        }
      ]
    },
    {
      "cell_type": "code",
      "metadata": {
        "colab": {
          "base_uri": "https://localhost:8080/",
          "height": 81
        },
        "id": "rsRIgYUYAqgA",
        "outputId": "e3fcc43c-88f0-42fe-84ff-85f17670ebd5"
      },
      "source": [
        "tree_eval = model_evaluation('Decision Tree',  yhat_tree_test)\n",
        "tree_eval"
      ],
      "execution_count": 55,
      "outputs": [
        {
          "output_type": "execute_result",
          "data": {
            "text/html": [
              "<div>\n",
              "<style scoped>\n",
              "    .dataframe tbody tr th:only-of-type {\n",
              "        vertical-align: middle;\n",
              "    }\n",
              "\n",
              "    .dataframe tbody tr th {\n",
              "        vertical-align: top;\n",
              "    }\n",
              "\n",
              "    .dataframe thead th {\n",
              "        text-align: right;\n",
              "    }\n",
              "</style>\n",
              "<table border=\"1\" class=\"dataframe\">\n",
              "  <thead>\n",
              "    <tr style=\"text-align: right;\">\n",
              "      <th></th>\n",
              "      <th>Test Accuracy</th>\n",
              "      <th>Balanced Accuracy</th>\n",
              "      <th>Precision</th>\n",
              "      <th>Recall</th>\n",
              "      <th>Jaccard-Score</th>\n",
              "      <th>F1-Score</th>\n",
              "    </tr>\n",
              "  </thead>\n",
              "  <tbody>\n",
              "    <tr>\n",
              "      <th>Decision Tree</th>\n",
              "      <td>0.71</td>\n",
              "      <td>0.781469</td>\n",
              "      <td>0.962264</td>\n",
              "      <td>0.653846</td>\n",
              "      <td>0.6375</td>\n",
              "      <td>0.734864</td>\n",
              "    </tr>\n",
              "  </tbody>\n",
              "</table>\n",
              "</div>"
            ],
            "text/plain": [
              "               Test Accuracy  Balanced Accuracy  ...  Jaccard-Score  F1-Score\n",
              "Decision Tree           0.71           0.781469  ...         0.6375  0.734864\n",
              "\n",
              "[1 rows x 6 columns]"
            ]
          },
          "metadata": {},
          "execution_count": 55
        }
      ]
    },
    {
      "cell_type": "markdown",
      "metadata": {
        "id": "y3YBwHhB3U6n"
      },
      "source": [
        "<w>"
      ]
    },
    {
      "cell_type": "markdown",
      "metadata": {
        "id": "2J1MYcOyekO-"
      },
      "source": [
        "## SVM Evaluation"
      ]
    },
    {
      "cell_type": "code",
      "metadata": {
        "id": "yCf_dKERekO-"
      },
      "source": [
        "yhat_svm_test = svm_model.predict(X_test)\n",
        "yhat_prob_svm_test = (svm_model.predict_proba(X_test))[:,1]"
      ],
      "execution_count": 56,
      "outputs": []
    },
    {
      "cell_type": "code",
      "metadata": {
        "colab": {
          "base_uri": "https://localhost:8080/",
          "height": 279
        },
        "id": "CsTQBRdXlU09",
        "outputId": "23760ba2-341c-41da-ee2a-4d9a7b9376a0"
      },
      "source": [
        "confusion_matrix_plot(svm_model, y_test, yhat_svm_test)"
      ],
      "execution_count": 57,
      "outputs": [
        {
          "output_type": "display_data",
          "data": {
            "image/png": "[encoded data removed]",
            "text/plain": [
              "<Figure size 432x288 with 2 Axes>"
            ]
          },
          "metadata": {
            "needs_background": "light"
          }
        }
      ]
    },
    {
      "cell_type": "code",
      "metadata": {
        "colab": {
          "base_uri": "https://localhost:8080/",
          "height": 81
        },
        "id": "O_XxWkjSBCCW",
        "outputId": "89699a72-b9f0-4f37-f10d-1c6253c19d05"
      },
      "source": [
        "svm_eval = model_evaluation('SVM', yhat_svm_test)\n",
        "svm_eval"
      ],
      "execution_count": 58,
      "outputs": [
        {
          "output_type": "execute_result",
          "data": {
            "text/html": [
              "<div>\n",
              "<style scoped>\n",
              "    .dataframe tbody tr th:only-of-type {\n",
              "        vertical-align: middle;\n",
              "    }\n",
              "\n",
              "    .dataframe tbody tr th {\n",
              "        vertical-align: top;\n",
              "    }\n",
              "\n",
              "    .dataframe thead th {\n",
              "        text-align: right;\n",
              "    }\n",
              "</style>\n",
              "<table border=\"1\" class=\"dataframe\">\n",
              "  <thead>\n",
              "    <tr style=\"text-align: right;\">\n",
              "      <th></th>\n",
              "      <th>Test Accuracy</th>\n",
              "      <th>Balanced Accuracy</th>\n",
              "      <th>Precision</th>\n",
              "      <th>Recall</th>\n",
              "      <th>Jaccard-Score</th>\n",
              "      <th>F1-Score</th>\n",
              "    </tr>\n",
              "  </thead>\n",
              "  <tbody>\n",
              "    <tr>\n",
              "      <th>SVM</th>\n",
              "      <td>0.74</td>\n",
              "      <td>0.800699</td>\n",
              "      <td>0.964286</td>\n",
              "      <td>0.692308</td>\n",
              "      <td>0.675</td>\n",
              "      <td>0.76199</td>\n",
              "    </tr>\n",
              "  </tbody>\n",
              "</table>\n",
              "</div>"
            ],
            "text/plain": [
              "     Test Accuracy  Balanced Accuracy  ...  Jaccard-Score  F1-Score\n",
              "SVM           0.74           0.800699  ...          0.675   0.76199\n",
              "\n",
              "[1 rows x 6 columns]"
            ]
          },
          "metadata": {},
          "execution_count": 58
        }
      ]
    },
    {
      "cell_type": "markdown",
      "metadata": {
        "id": "KA06clS33W2M"
      },
      "source": [
        "<w>"
      ]
    },
    {
      "cell_type": "markdown",
      "metadata": {
        "id": "znEI5WICekO_"
      },
      "source": [
        "## Logistic Reg. Evaluation"
      ]
    },
    {
      "cell_type": "code",
      "metadata": {
        "id": "zecEPowFekO_"
      },
      "source": [
        "yhat_logistic_test = logistic_model.predict(X_test)\n",
        "yhat_prob_logistic_test = (logistic_model.predict_proba(X_test))[:,1]"
      ],
      "execution_count": 59,
      "outputs": []
    },
    {
      "cell_type": "code",
      "metadata": {
        "colab": {
          "base_uri": "https://localhost:8080/",
          "height": 279
        },
        "id": "3QjXrS51lYlc",
        "outputId": "59b0dc19-56b5-4cb8-c5c4-fee06dc33040"
      },
      "source": [
        "confusion_matrix_plot(logistic_model, y_test, yhat_logistic_test)"
      ],
      "execution_count": 60,
      "outputs": [
        {
          "output_type": "display_data",
          "data": {
            "image/png": "[encoded data removed]",
            "text/plain": [
              "<Figure size 432x288 with 2 Axes>"
            ]
          },
          "metadata": {
            "needs_background": "light"
          }
        }
      ]
    },
    {
      "cell_type": "code",
      "metadata": {
        "colab": {
          "base_uri": "https://localhost:8080/",
          "height": 81
        },
        "id": "BWldMrB3Bz0w",
        "outputId": "eb1e8166-65f0-40af-e82a-8d352bcf0af7"
      },
      "source": [
        "logistic_eval = model_evaluation('Logistic Reg.', yhat_logistic_test)\n",
        "logistic_eval"
      ],
      "execution_count": 61,
      "outputs": [
        {
          "output_type": "execute_result",
          "data": {
            "text/html": [
              "<div>\n",
              "<style scoped>\n",
              "    .dataframe tbody tr th:only-of-type {\n",
              "        vertical-align: middle;\n",
              "    }\n",
              "\n",
              "    .dataframe tbody tr th {\n",
              "        vertical-align: top;\n",
              "    }\n",
              "\n",
              "    .dataframe thead th {\n",
              "        text-align: right;\n",
              "    }\n",
              "</style>\n",
              "<table border=\"1\" class=\"dataframe\">\n",
              "  <thead>\n",
              "    <tr style=\"text-align: right;\">\n",
              "      <th></th>\n",
              "      <th>Test Accuracy</th>\n",
              "      <th>Balanced Accuracy</th>\n",
              "      <th>Precision</th>\n",
              "      <th>Recall</th>\n",
              "      <th>Jaccard-Score</th>\n",
              "      <th>F1-Score</th>\n",
              "    </tr>\n",
              "  </thead>\n",
              "  <tbody>\n",
              "    <tr>\n",
              "      <th>Logistic Reg.</th>\n",
              "      <td>0.69</td>\n",
              "      <td>0.801282</td>\n",
              "      <td>1.0</td>\n",
              "      <td>0.602564</td>\n",
              "      <td>0.602564</td>\n",
              "      <td>0.715627</td>\n",
              "    </tr>\n",
              "  </tbody>\n",
              "</table>\n",
              "</div>"
            ],
            "text/plain": [
              "               Test Accuracy  Balanced Accuracy  ...  Jaccard-Score  F1-Score\n",
              "Logistic Reg.           0.69           0.801282  ...       0.602564  0.715627\n",
              "\n",
              "[1 rows x 6 columns]"
            ]
          },
          "metadata": {},
          "execution_count": 61
        }
      ]
    },
    {
      "cell_type": "markdown",
      "metadata": {
        "id": "tE2f3DubekO_"
      },
      "source": [
        "## Evaluation table & ROC-AUC\n"
      ]
    },
    {
      "cell_type": "code",
      "metadata": {
        "id": "xZltnZJPHEU8"
      },
      "source": [
        "from pandas.io.formats.style import Styler\n",
        "from sklearn.metrics import roc_curve, auc"
      ],
      "execution_count": 62,
      "outputs": []
    },
    {
      "cell_type": "markdown",
      "metadata": {
        "id": "hsiHVtnZkvxg"
      },
      "source": [
        "Evaluation Table"
      ]
    },
    {
      "cell_type": "code",
      "metadata": {
        "id": "tQnDsBf89die"
      },
      "source": [
        "# Concatenating models evaluations\n",
        "evaluation_table = pd.concat([knn_eval, tree_eval, svm_eval, logistic_eval])\n",
        "# Rounding values\n",
        "evaluation_table = evaluation_table.style.format('{:.2%}')\n",
        "# Highliting mins and maxs\n",
        "evaluation_table = evaluation_table.highlight_max(color='lightcyan').highlight_min(color='mistyrose')\n",
        "# Adding title\n",
        "evaluation_table = evaluation_table.set_caption('Evaluation Table of Classification Algorithms')\n",
        "evaluation_table = evaluation_table.set_table_styles([{'selector': 'caption', 'props': [('color', 'black'),('font-size', '30px')]}])"
      ],
      "execution_count": 63,
      "outputs": []
    },
    {
      "cell_type": "markdown",
      "metadata": {
        "id": "Y_kgKhSylEQd"
      },
      "source": [
        "ROC Curves"
      ]
    },
    {
      "cell_type": "code",
      "metadata": {
        "id": "8nkRmcMgpnCk"
      },
      "source": [
        "knn_fpr, knn_tpr, threshold = roc_curve(y_test, yhat_prob_knn_test, pos_label='PAIDOFF')\n",
        "auc_knn = auc(knn_fpr, knn_tpr)\n",
        "\n",
        "tree_fpr, tree_tpr, threshold = roc_curve(y_test, yhat_prob_tree_test, pos_label='PAIDOFF')\n",
        "auc_tree = auc(tree_fpr, tree_tpr)\n",
        "\n",
        "svm_fpr, svm_tpr, threshold = roc_curve(y_test, yhat_prob_svm_test, pos_label='PAIDOFF')\n",
        "auc_svm = auc(svm_fpr, svm_tpr)\n",
        "\n",
        "logistic_fpr, logistic_tpr, threshold = roc_curve(y_test, yhat_prob_logistic_test, pos_label='PAIDOFF')\n",
        "auc_logistic = auc(logistic_fpr, logistic_tpr)"
      ],
      "execution_count": 64,
      "outputs": []
    },
    {
      "cell_type": "markdown",
      "metadata": {
        "id": "kM_4lnJnXA4G"
      },
      "source": [
        "Report"
      ]
    },
    {
      "cell_type": "code",
      "metadata": {
        "id": "hGaR1Tu_XLXE"
      },
      "source": [
        "def report():\n",
        "  display(evaluation_table)\n",
        "  print('\\n\\n')\n",
        "\n",
        "  plt.figure(figsize=(5, 5), dpi=100)\n",
        "  plt.plot(knn_fpr, knn_tpr, marker='.', label='KNN (auc = %0.3f)' % auc_knn)\n",
        "  plt.plot(tree_fpr, tree_tpr, marker='.', label='Decision Tree (auc = %0.3f)' % auc_tree)\n",
        "  plt.plot(svm_fpr, svm_tpr, marker='.', label='SVM (auc = %0.3f)' % auc_svm)\n",
        "  plt.plot(logistic_fpr, logistic_tpr, marker='.', label='Logistic Reg.(auc = %0.3f)' % auc_logistic)\n",
        "  plt.plot([0, 1], [0, 1], color=\"navy\", linestyle=\"--\", label='Random')\n",
        "\n",
        "  plt.title('ROC-AUC')\n",
        "  plt.xlabel('False Positive Rate')\n",
        "  plt.ylabel('True Positive Rate')\n",
        "  plt.legend()\n",
        "  plt.show()"
      ],
      "execution_count": 65,
      "outputs": []
    },
    {
      "cell_type": "markdown",
      "metadata": {
        "id": "nz3wVg3g769s"
      },
      "source": [
        "<w>"
      ]
    },
    {
      "cell_type": "markdown",
      "metadata": {
        "id": "wvtJRIkW45-I"
      },
      "source": [
        "#REPORT"
      ]
    },
    {
      "cell_type": "code",
      "metadata": {
        "colab": {
          "base_uri": "https://localhost:8080/",
          "height": 727
        },
        "id": "jZb2sjSdliqd",
        "outputId": "4430c3ce-e9dd-4a64-d193-ab07f454ea4d"
      },
      "source": [
        "report()\n"
      ],
      "execution_count": 66,
      "outputs": [
        {
          "output_type": "display_data",
          "data": {
            "text/html": [
              "<style  type=\"text/css\" >\n",
              "    #T_941ac52c_5062_11ec_8ae3_0242ac1c0002 caption {\n",
              "          color: black;\n",
              "          font-size: 30px;\n",
              "    }#T_941ac52c_5062_11ec_8ae3_0242ac1c0002row0_col1,#T_941ac52c_5062_11ec_8ae3_0242ac1c0002row0_col2,#T_941ac52c_5062_11ec_8ae3_0242ac1c0002row3_col0,#T_941ac52c_5062_11ec_8ae3_0242ac1c0002row3_col3,#T_941ac52c_5062_11ec_8ae3_0242ac1c0002row3_col4,#T_941ac52c_5062_11ec_8ae3_0242ac1c0002row3_col5{\n",
              "            background-color:  mistyrose;\n",
              "        }#T_941ac52c_5062_11ec_8ae3_0242ac1c0002row0_col3,#T_941ac52c_5062_11ec_8ae3_0242ac1c0002row2_col0,#T_941ac52c_5062_11ec_8ae3_0242ac1c0002row2_col3,#T_941ac52c_5062_11ec_8ae3_0242ac1c0002row2_col4,#T_941ac52c_5062_11ec_8ae3_0242ac1c0002row2_col5,#T_941ac52c_5062_11ec_8ae3_0242ac1c0002row3_col1,#T_941ac52c_5062_11ec_8ae3_0242ac1c0002row3_col2{\n",
              "            background-color:  lightcyan;\n",
              "        }</style><table id=\"T_941ac52c_5062_11ec_8ae3_0242ac1c0002\" class=\"dataframe\"><caption>Evaluation Table of Classification Algorithms</caption><thead>    <tr>        <th class=\"blank level0\" ></th>        <th class=\"col_heading level0 col0\" >Test Accuracy</th>        <th class=\"col_heading level0 col1\" >Balanced Accuracy</th>        <th class=\"col_heading level0 col2\" >Precision</th>        <th class=\"col_heading level0 col3\" >Recall</th>        <th class=\"col_heading level0 col4\" >Jaccard-Score</th>        <th class=\"col_heading level0 col5\" >F1-Score</th>    </tr></thead><tbody>\n",
              "                <tr>\n",
              "                        <th id=\"T_941ac52c_5062_11ec_8ae3_0242ac1c0002level0_row0\" class=\"row_heading level0 row0\" >KNN</th>\n",
              "                        <td id=\"T_941ac52c_5062_11ec_8ae3_0242ac1c0002row0_col0\" class=\"data row0 col0\" >71.00%</td>\n",
              "                        <td id=\"T_941ac52c_5062_11ec_8ae3_0242ac1c0002row0_col1\" class=\"data row0 col1\" >73.25%</td>\n",
              "                        <td id=\"T_941ac52c_5062_11ec_8ae3_0242ac1c0002row0_col2\" class=\"data row0 col2\" >91.53%</td>\n",
              "                        <td id=\"T_941ac52c_5062_11ec_8ae3_0242ac1c0002row0_col3\" class=\"data row0 col3\" >69.23%</td>\n",
              "                        <td id=\"T_941ac52c_5062_11ec_8ae3_0242ac1c0002row0_col4\" class=\"data row0 col4\" >65.06%</td>\n",
              "                        <td id=\"T_941ac52c_5062_11ec_8ae3_0242ac1c0002row0_col5\" class=\"data row0 col5\" >73.36%</td>\n",
              "            </tr>\n",
              "            <tr>\n",
              "                        <th id=\"T_941ac52c_5062_11ec_8ae3_0242ac1c0002level0_row1\" class=\"row_heading level0 row1\" >Decision Tree</th>\n",
              "                        <td id=\"T_941ac52c_5062_11ec_8ae3_0242ac1c0002row1_col0\" class=\"data row1 col0\" >71.00%</td>\n",
              "                        <td id=\"T_941ac52c_5062_11ec_8ae3_0242ac1c0002row1_col1\" class=\"data row1 col1\" >78.15%</td>\n",
              "                        <td id=\"T_941ac52c_5062_11ec_8ae3_0242ac1c0002row1_col2\" class=\"data row1 col2\" >96.23%</td>\n",
              "                        <td id=\"T_941ac52c_5062_11ec_8ae3_0242ac1c0002row1_col3\" class=\"data row1 col3\" >65.38%</td>\n",
              "                        <td id=\"T_941ac52c_5062_11ec_8ae3_0242ac1c0002row1_col4\" class=\"data row1 col4\" >63.75%</td>\n",
              "                        <td id=\"T_941ac52c_5062_11ec_8ae3_0242ac1c0002row1_col5\" class=\"data row1 col5\" >73.49%</td>\n",
              "            </tr>\n",
              "            <tr>\n",
              "                        <th id=\"T_941ac52c_5062_11ec_8ae3_0242ac1c0002level0_row2\" class=\"row_heading level0 row2\" >SVM</th>\n",
              "                        <td id=\"T_941ac52c_5062_11ec_8ae3_0242ac1c0002row2_col0\" class=\"data row2 col0\" >74.00%</td>\n",
              "                        <td id=\"T_941ac52c_5062_11ec_8ae3_0242ac1c0002row2_col1\" class=\"data row2 col1\" >80.07%</td>\n",
              "                        <td id=\"T_941ac52c_5062_11ec_8ae3_0242ac1c0002row2_col2\" class=\"data row2 col2\" >96.43%</td>\n",
              "                        <td id=\"T_941ac52c_5062_11ec_8ae3_0242ac1c0002row2_col3\" class=\"data row2 col3\" >69.23%</td>\n",
              "                        <td id=\"T_941ac52c_5062_11ec_8ae3_0242ac1c0002row2_col4\" class=\"data row2 col4\" >67.50%</td>\n",
              "                        <td id=\"T_941ac52c_5062_11ec_8ae3_0242ac1c0002row2_col5\" class=\"data row2 col5\" >76.20%</td>\n",
              "            </tr>\n",
              "            <tr>\n",
              "                        <th id=\"T_941ac52c_5062_11ec_8ae3_0242ac1c0002level0_row3\" class=\"row_heading level0 row3\" >Logistic Reg.</th>\n",
              "                        <td id=\"T_941ac52c_5062_11ec_8ae3_0242ac1c0002row3_col0\" class=\"data row3 col0\" >69.00%</td>\n",
              "                        <td id=\"T_941ac52c_5062_11ec_8ae3_0242ac1c0002row3_col1\" class=\"data row3 col1\" >80.13%</td>\n",
              "                        <td id=\"T_941ac52c_5062_11ec_8ae3_0242ac1c0002row3_col2\" class=\"data row3 col2\" >100.00%</td>\n",
              "                        <td id=\"T_941ac52c_5062_11ec_8ae3_0242ac1c0002row3_col3\" class=\"data row3 col3\" >60.26%</td>\n",
              "                        <td id=\"T_941ac52c_5062_11ec_8ae3_0242ac1c0002row3_col4\" class=\"data row3 col4\" >60.26%</td>\n",
              "                        <td id=\"T_941ac52c_5062_11ec_8ae3_0242ac1c0002row3_col5\" class=\"data row3 col5\" >71.56%</td>\n",
              "            </tr>\n",
              "    </tbody></table>"
            ],
            "text/plain": [
              "<pandas.io.formats.style.Styler at 0x7f76edc1f350>"
            ]
          },
          "metadata": {}
        },
        {
          "output_type": "stream",
          "name": "stdout",
          "text": [
            "\n",
            "\n",
            "\n"
          ]
        },
        {
          "output_type": "display_data",
          "data": {
            "image/png": "[encoded data removed]",
            "text/plain": [
              "<Figure size 500x500 with 1 Axes>"
            ]
          },
          "metadata": {
            "needs_background": "light"
          }
        }
      ]
    },
    {
      "cell_type": "code",
      "metadata": {
        "id": "1Q3NxPYQX8Fo"
      },
      "source": [
        ""
      ],
      "execution_count": 66,
      "outputs": []
    }
  ]
}